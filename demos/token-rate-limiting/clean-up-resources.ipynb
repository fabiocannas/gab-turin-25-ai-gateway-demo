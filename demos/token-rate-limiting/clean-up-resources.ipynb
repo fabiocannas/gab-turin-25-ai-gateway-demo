{
 "cells": [
  {
   "cell_type": "markdown",
   "metadata": {},
   "source": [
    "### 🗑️ Clean up resources\n",
    "\n",
    "When you're finished with the lab, you should remove all your deployed resources from Azure to avoid extra charges and keep your Azure subscription uncluttered."
   ]
  },
  {
   "cell_type": "code",
   "execution_count": 5,
   "metadata": {},
   "outputs": [
    {
     "name": "stdout",
     "output_type": "stream",
     "text": [
      "👉🏽 \u001b[1;34m🧹 Cleaning up resource group 'lab-cannasdev'...\u001b[0m\n",
      "⚙️ \u001b[1;34mRunning: az deployment group show --name token-rate-limiting -g lab-cannasdev -o json \u001b[0m\n",
      "✅ \u001b[1;32mDeployment retrieved\u001b[0m ⌚ 12:02:27.432513 [0m:2s]\n",
      "👉🏽 \u001b[1;34mDeployment provisioning state: Succeeded\u001b[0m\n",
      "⚙️ \u001b[1;34mRunning:  az cognitiveservices account list -g lab-cannasdev \u001b[0m\n",
      "✅ \u001b[1;32mListed CognitiveService accounts\u001b[0m ⌚ 12:02:30.809507 [0m:3s]\n",
      "👉🏽 \u001b[1;34mDeleting and purging Cognitive Service Account 'openai1-obscxbthf7gei' in resource group 'lab-cannasdev'...\u001b[0m\n",
      "⚙️ \u001b[1;34mRunning: az cognitiveservices account delete -g lab-cannasdev -n openai1-obscxbthf7gei \u001b[0m\n",
      "✅ \u001b[1;32mCognitive Services 'openai1-obscxbthf7gei' deleted\u001b[0m ⌚ 12:02:37.100956 [0m:6s]\n",
      "⚙️ \u001b[1;34mRunning: az cognitiveservices account purge -g lab-cannasdev -n openai1-obscxbthf7gei -l \"uksouth\" \u001b[0m\n",
      "✅ \u001b[1;32mCognitive Services 'openai1-obscxbthf7gei' purged\u001b[0m ⌚ 12:02:40.800967 [0m:3s]\n",
      "⚙️ \u001b[1;34mRunning:  az apim list -g lab-cannasdev \u001b[0m\n",
      "✅ \u001b[1;32mListed APIM resources\u001b[0m ⌚ 12:02:43.878373 [0m:3s]\n",
      "👉🏽 \u001b[1;34mDeleting and purging API Management 'apim-obscxbthf7gei' in resource group 'lab-cannasdev'...\u001b[0m\n",
      "⚙️ \u001b[1;34mRunning: az apim delete -n apim-obscxbthf7gei -g lab-cannasdev -y \u001b[0m\n",
      "✅ \u001b[1;32mAPI Management 'apim-obscxbthf7gei' deleted\u001b[0m ⌚ 12:03:49.640614 [1m:5s]\n",
      "⚙️ \u001b[1;34mRunning: az apim deletedservice purge --service-name apim-obscxbthf7gei --location \"UK South\" \u001b[0m\n",
      "✅ \u001b[1;32mAPI Management 'apim-obscxbthf7gei' purged\u001b[0m ⌚ 12:05:19.008449 [1m:29s]\n",
      "⚙️ \u001b[1;34mRunning:  az keyvault list -g lab-cannasdev \u001b[0m\n",
      "✅ \u001b[1;32mListed Key Vault resources\u001b[0m ⌚ 12:05:22.922478 [0m:3s]\n",
      "👉🏽 \u001b[1;32m🧹 Deleting resource group 'lab-cannasdev'...\u001b[0m ⌚ 12:05:22.923479 \n",
      "⚙️ \u001b[1;34mRunning: az group delete --name lab-cannasdev -y \u001b[0m\n",
      "✅ \u001b[1;32mResource group 'lab-cannasdev' deleted\u001b[0m ⌚ 12:05:42.181783 [0m:19s]\n",
      "👉🏽 \u001b[1;32m🧹 Cleanup completed.\u001b[0m ⌚ 12:05:42.182776 \n"
     ]
    }
   ],
   "source": [
    "import os, sys\n",
    "sys.path.insert(1, '../../shared')  # add the shared directory to the Python path\n",
    "import utils\n",
    "\n",
    "deployment_name = os.path.basename(os.path.dirname(globals()['__vsc_ipynb_file__']))\n",
    "utils.cleanup_resources(\"token-rate-limiting\",\"lab-cannasdev\")"
   ]
  }
 ],
 "metadata": {
  "kernelspec": {
   "display_name": "Python 3",
   "language": "python",
   "name": "python3"
  },
  "language_info": {
   "codemirror_mode": {
    "name": "ipython",
    "version": 3
   },
   "file_extension": ".py",
   "mimetype": "text/x-python",
   "name": "python",
   "nbconvert_exporter": "python",
   "pygments_lexer": "ipython3",
   "version": "3.12.6"
  }
 },
 "nbformat": 4,
 "nbformat_minor": 2
}
